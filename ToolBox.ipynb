{
  "nbformat": 4,
  "nbformat_minor": 0,
  "metadata": {
    "colab": {
      "name": "ToolBox.ipynb",
      "provenance": [],
      "authorship_tag": "ABX9TyNdYszBEfXKirENRtFzclJN",
      "include_colab_link": true
    },
    "kernelspec": {
      "name": "python3",
      "display_name": "Python 3"
    }
  },
  "cells": [
    {
      "cell_type": "markdown",
      "metadata": {
        "id": "view-in-github",
        "colab_type": "text"
      },
      "source": [
        "<a href=\"https://colab.research.google.com/github/GulTion/colab/blob/master/ToolBox.ipynb\" target=\"_parent\"><img src=\"https://colab.research.google.com/assets/colab-badge.svg\" alt=\"Open In Colab\"/></a>"
      ]
    },
    {
      "cell_type": "code",
      "metadata": {
        "id": "dYZlQBhE1gm8",
        "colab_type": "code",
        "cellView": "form",
        "colab": {}
      },
      "source": [
        "#@title Share Drive to own Drive Copier\n",
        "#@markdown ##So Mount Your drive\n",
        "from google.colab import drive\n",
        "drive.mount('/content/drive/')\n",
        "\n"
      ],
      "execution_count": null,
      "outputs": []
    },
    {
      "cell_type": "code",
      "metadata": {
        "id": "wA_m5tBO3ocu",
        "colab_type": "code",
        "cellView": "form",
        "colab": {}
      },
      "source": [
        "import ipywidgets as widgets\n",
        "from ipywidgets import VBox\n",
        "import os\n",
        "from IPython.display import display\n",
        "\n",
        "g = os.popen('ls \"/content/drive/My Drive/\"').read()\n",
        "k = g.split('\\n')\n",
        "\n",
        "#@markdown ##Select Folder to copy\n",
        "fromPath =  widgets.Dropdown(\n",
        "    options=k,\n",
        "    value=k[0],\n",
        "    description='From:',\n",
        "    disabled=False,\n",
        ")\n",
        "\n",
        "toPath =  widgets.Dropdown(\n",
        "    options=k,\n",
        "    value=k[0],\n",
        "    description='To:',\n",
        "    disabled=False,\n",
        ")\n",
        "\n",
        "from IPython.display import display\n",
        "button = widgets.Button(description=\"Click Me!\",icons=\"copy\")\n",
        "output = widgets.Output()\n",
        "\n",
        "display(fromPath,toPath,button, output)\n",
        "\n",
        "def c(a,b):\n",
        "  out = os.popen(f'cd \"/content/drive/My Drive\";cp -r \"{a.value}/.\" \"{b.value}/\"').read()\n",
        "  print(\"Copy is Starting ...\")\n",
        "  print(out)\n",
        "  print(\"Complete ..☺☺\")\n",
        "\n",
        "def on_button_clicked(b):\n",
        "    print(\"<Loading ....>\")\n",
        "    with output:\n",
        "        c(fromPath,toPath)\n",
        "\n",
        "button.on_click(on_button_clicked)\n",
        "\n",
        "\n"
      ],
      "execution_count": null,
      "outputs": []
    }
  ]
}