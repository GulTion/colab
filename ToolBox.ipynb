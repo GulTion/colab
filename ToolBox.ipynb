{
  "nbformat": 4,
  "nbformat_minor": 0,
  "metadata": {
    "colab": {
      "name": "ToolBox.ipynb",
      "provenance": [],
      "authorship_tag": "ABX9TyPYSigsGkPkeFxDVw/GtzWZ",
      "include_colab_link": true
    },
    "kernelspec": {
      "name": "python3",
      "display_name": "Python 3"
    },
    "widgets": {
      "application/vnd.jupyter.widget-state+json": {
        "abcd9d5f04a9488ab51b4fed0b296e9d": {
          "model_module": "@jupyter-widgets/controls",
          "model_name": "DropdownModel",
          "state": {
            "_options_labels": [
              "1595748500478749822199.jpg",
              "1595748673772-1242265546.jpg",
              "AlgoExpert Complete [@csalgo telegram]",
              "Applied Gate C.S.",
              "bulk_download(1).zip",
              "bulk_download(2).zip",
              "bulk_download.zip",
              "bulk_downloadzip.zip",
              "CodeWithMosh",
              "Colab Notebooks",
              " complete-android-n-developer-course",
              "Data Structure and Algorithm",
              "Development Books",
              "DS.web",
              "fromHere",
              "GAME",
              "math",
              "Movies",
              "sdf.mp4",
              "Summitsoft.Logo.Design.Studio.Pro.4.5.1.0.Crack.rar",
              "Torrent2",
              "Torrentsss",
              "Udemy",
              "UploadHere",
              "YuuDrive",
              ""
            ],
            "_view_name": "DropdownView",
            "style": "IPY_MODEL_5ea650d7ae1c492fb5e93db52ac00743",
            "_dom_classes": [],
            "description": "From:",
            "_model_name": "DropdownModel",
            "index": 17,
            "_view_module": "@jupyter-widgets/controls",
            "_model_module_version": "1.5.0",
            "_view_count": null,
            "disabled": false,
            "_view_module_version": "1.5.0",
            "description_tooltip": null,
            "_model_module": "@jupyter-widgets/controls",
            "layout": "IPY_MODEL_707638feac7e4b7abf1d2476c8a208b5"
          }
        },
        "5ea650d7ae1c492fb5e93db52ac00743": {
          "model_module": "@jupyter-widgets/controls",
          "model_name": "DescriptionStyleModel",
          "state": {
            "_view_name": "StyleView",
            "_model_name": "DescriptionStyleModel",
            "description_width": "",
            "_view_module": "@jupyter-widgets/base",
            "_model_module_version": "1.5.0",
            "_view_count": null,
            "_view_module_version": "1.2.0",
            "_model_module": "@jupyter-widgets/controls"
          }
        },
        "707638feac7e4b7abf1d2476c8a208b5": {
          "model_module": "@jupyter-widgets/base",
          "model_name": "LayoutModel",
          "state": {
            "_view_name": "LayoutView",
            "grid_template_rows": null,
            "right": null,
            "justify_content": null,
            "_view_module": "@jupyter-widgets/base",
            "overflow": null,
            "_model_module_version": "1.2.0",
            "_view_count": null,
            "flex_flow": null,
            "width": null,
            "min_width": null,
            "border": null,
            "align_items": null,
            "bottom": null,
            "_model_module": "@jupyter-widgets/base",
            "top": null,
            "grid_column": null,
            "overflow_y": null,
            "overflow_x": null,
            "grid_auto_flow": null,
            "grid_area": null,
            "grid_template_columns": null,
            "flex": null,
            "_model_name": "LayoutModel",
            "justify_items": null,
            "grid_row": null,
            "max_height": null,
            "align_content": null,
            "visibility": null,
            "align_self": null,
            "height": null,
            "min_height": null,
            "padding": null,
            "grid_auto_rows": null,
            "grid_gap": null,
            "max_width": null,
            "order": null,
            "_view_module_version": "1.2.0",
            "grid_template_areas": null,
            "object_position": null,
            "object_fit": null,
            "grid_auto_columns": null,
            "margin": null,
            "display": null,
            "left": null
          }
        },
        "813b357471314dc9b4983987e30f3a82": {
          "model_module": "@jupyter-widgets/controls",
          "model_name": "DropdownModel",
          "state": {
            "_options_labels": [
              "1595748500478749822199.jpg",
              "1595748673772-1242265546.jpg",
              "AlgoExpert Complete [@csalgo telegram]",
              "Applied Gate C.S.",
              "bulk_download(1).zip",
              "bulk_download(2).zip",
              "bulk_download.zip",
              "bulk_downloadzip.zip",
              "CodeWithMosh",
              "Colab Notebooks",
              " complete-android-n-developer-course",
              "Data Structure and Algorithm",
              "Development Books",
              "DS.web",
              "fromHere",
              "GAME",
              "math",
              "Movies",
              "sdf.mp4",
              "Summitsoft.Logo.Design.Studio.Pro.4.5.1.0.Crack.rar",
              "Torrent2",
              "Torrentsss",
              "Udemy",
              "UploadHere",
              "YuuDrive",
              ""
            ],
            "_view_name": "DropdownView",
            "style": "IPY_MODEL_a32f14a62bbd4090bb0e8151140b1f10",
            "_dom_classes": [],
            "description": "To:",
            "_model_name": "DropdownModel",
            "index": 15,
            "_view_module": "@jupyter-widgets/controls",
            "_model_module_version": "1.5.0",
            "_view_count": null,
            "disabled": false,
            "_view_module_version": "1.5.0",
            "description_tooltip": null,
            "_model_module": "@jupyter-widgets/controls",
            "layout": "IPY_MODEL_29080e4e46ea47f6bee8bc53becd5fd1"
          }
        },
        "a32f14a62bbd4090bb0e8151140b1f10": {
          "model_module": "@jupyter-widgets/controls",
          "model_name": "DescriptionStyleModel",
          "state": {
            "_view_name": "StyleView",
            "_model_name": "DescriptionStyleModel",
            "description_width": "",
            "_view_module": "@jupyter-widgets/base",
            "_model_module_version": "1.5.0",
            "_view_count": null,
            "_view_module_version": "1.2.0",
            "_model_module": "@jupyter-widgets/controls"
          }
        },
        "29080e4e46ea47f6bee8bc53becd5fd1": {
          "model_module": "@jupyter-widgets/base",
          "model_name": "LayoutModel",
          "state": {
            "_view_name": "LayoutView",
            "grid_template_rows": null,
            "right": null,
            "justify_content": null,
            "_view_module": "@jupyter-widgets/base",
            "overflow": null,
            "_model_module_version": "1.2.0",
            "_view_count": null,
            "flex_flow": null,
            "width": null,
            "min_width": null,
            "border": null,
            "align_items": null,
            "bottom": null,
            "_model_module": "@jupyter-widgets/base",
            "top": null,
            "grid_column": null,
            "overflow_y": null,
            "overflow_x": null,
            "grid_auto_flow": null,
            "grid_area": null,
            "grid_template_columns": null,
            "flex": null,
            "_model_name": "LayoutModel",
            "justify_items": null,
            "grid_row": null,
            "max_height": null,
            "align_content": null,
            "visibility": null,
            "align_self": null,
            "height": null,
            "min_height": null,
            "padding": null,
            "grid_auto_rows": null,
            "grid_gap": null,
            "max_width": null,
            "order": null,
            "_view_module_version": "1.2.0",
            "grid_template_areas": null,
            "object_position": null,
            "object_fit": null,
            "grid_auto_columns": null,
            "margin": null,
            "display": null,
            "left": null
          }
        },
        "91bd877af47b471280b96ddb401806a8": {
          "model_module": "@jupyter-widgets/controls",
          "model_name": "ButtonModel",
          "state": {
            "_view_name": "ButtonView",
            "style": "IPY_MODEL_78fb7dd9deb24f4e9065b98c2fde3f67",
            "_dom_classes": [],
            "description": "Click Me!",
            "_model_name": "ButtonModel",
            "button_style": "",
            "_view_module": "@jupyter-widgets/controls",
            "_model_module_version": "1.5.0",
            "tooltip": "",
            "_view_count": null,
            "disabled": false,
            "_view_module_version": "1.5.0",
            "layout": "IPY_MODEL_8a303fe9daac4bd487658449654559fe",
            "_model_module": "@jupyter-widgets/controls",
            "icon": ""
          }
        },
        "78fb7dd9deb24f4e9065b98c2fde3f67": {
          "model_module": "@jupyter-widgets/controls",
          "model_name": "ButtonStyleModel",
          "state": {
            "_view_name": "StyleView",
            "_model_name": "ButtonStyleModel",
            "_view_module": "@jupyter-widgets/base",
            "_model_module_version": "1.5.0",
            "_view_count": null,
            "button_color": null,
            "font_weight": "",
            "_view_module_version": "1.2.0",
            "_model_module": "@jupyter-widgets/controls"
          }
        },
        "8a303fe9daac4bd487658449654559fe": {
          "model_module": "@jupyter-widgets/base",
          "model_name": "LayoutModel",
          "state": {
            "_view_name": "LayoutView",
            "grid_template_rows": null,
            "right": null,
            "justify_content": null,
            "_view_module": "@jupyter-widgets/base",
            "overflow": null,
            "_model_module_version": "1.2.0",
            "_view_count": null,
            "flex_flow": null,
            "width": null,
            "min_width": null,
            "border": null,
            "align_items": null,
            "bottom": null,
            "_model_module": "@jupyter-widgets/base",
            "top": null,
            "grid_column": null,
            "overflow_y": null,
            "overflow_x": null,
            "grid_auto_flow": null,
            "grid_area": null,
            "grid_template_columns": null,
            "flex": null,
            "_model_name": "LayoutModel",
            "justify_items": null,
            "grid_row": null,
            "max_height": null,
            "align_content": null,
            "visibility": null,
            "align_self": null,
            "height": null,
            "min_height": null,
            "padding": null,
            "grid_auto_rows": null,
            "grid_gap": null,
            "max_width": null,
            "order": null,
            "_view_module_version": "1.2.0",
            "grid_template_areas": null,
            "object_position": null,
            "object_fit": null,
            "grid_auto_columns": null,
            "margin": null,
            "display": null,
            "left": null
          }
        },
        "505f79b2b672489aa59f61c1bd8c36b5": {
          "model_module": "@jupyter-widgets/output",
          "model_name": "OutputModel",
          "state": {
            "_view_name": "OutputView",
            "msg_id": "",
            "_dom_classes": [],
            "_model_name": "OutputModel",
            "outputs": [
              {
                "output_type": "stream",
                "metadata": {
                  "tags": []
                },
                "text": "Copy is Starting ...\n\nComplete ..☺☺\n",
                "stream": "stdout"
              },
              {
                "output_type": "stream",
                "metadata": {
                  "tags": []
                },
                "text": "Copy is Starting ...\n\nComplete ..☺☺\n",
                "stream": "stdout"
              },
              {
                "output_type": "stream",
                "metadata": {
                  "tags": []
                },
                "text": "Copy is Starting ...\n\nComplete ..☺☺\n",
                "stream": "stdout"
              }
            ],
            "_view_module": "@jupyter-widgets/output",
            "_model_module_version": "1.0.0",
            "_view_count": null,
            "_view_module_version": "1.0.0",
            "layout": "IPY_MODEL_caa2e10b81f2452ea899081e82b447c8",
            "_model_module": "@jupyter-widgets/output"
          }
        },
        "caa2e10b81f2452ea899081e82b447c8": {
          "model_module": "@jupyter-widgets/base",
          "model_name": "LayoutModel",
          "state": {
            "_view_name": "LayoutView",
            "grid_template_rows": null,
            "right": null,
            "justify_content": null,
            "_view_module": "@jupyter-widgets/base",
            "overflow": null,
            "_model_module_version": "1.2.0",
            "_view_count": null,
            "flex_flow": null,
            "width": null,
            "min_width": null,
            "border": null,
            "align_items": null,
            "bottom": null,
            "_model_module": "@jupyter-widgets/base",
            "top": null,
            "grid_column": null,
            "overflow_y": null,
            "overflow_x": null,
            "grid_auto_flow": null,
            "grid_area": null,
            "grid_template_columns": null,
            "flex": null,
            "_model_name": "LayoutModel",
            "justify_items": null,
            "grid_row": null,
            "max_height": null,
            "align_content": null,
            "visibility": null,
            "align_self": null,
            "height": null,
            "min_height": null,
            "padding": null,
            "grid_auto_rows": null,
            "grid_gap": null,
            "max_width": null,
            "order": null,
            "_view_module_version": "1.2.0",
            "grid_template_areas": null,
            "object_position": null,
            "object_fit": null,
            "grid_auto_columns": null,
            "margin": null,
            "display": null,
            "left": null
          }
        }
      }
    }
  },
  "cells": [
    {
      "cell_type": "markdown",
      "metadata": {
        "id": "view-in-github",
        "colab_type": "text"
      },
      "source": [
        "<a href=\"https://colab.research.google.com/github/GulTion/colab/blob/master/ToolBox.ipynb\" target=\"_parent\"><img src=\"https://colab.research.google.com/assets/colab-badge.svg\" alt=\"Open In Colab\"/></a>"
      ]
    },
    {
      "cell_type": "code",
      "metadata": {
        "id": "dYZlQBhE1gm8",
        "colab_type": "code",
        "cellView": "both",
        "colab": {
          "base_uri": "https://localhost:8080/",
          "height": 122
        },
        "outputId": "651f46cb-f3b4-4bd0-9f68-c461f577271c"
      },
      "source": [
        "#@title Share Drive to own Drive Copier\n",
        "#@markdown ##So Mount Your drive\n",
        "from google.colab import drive\n",
        "drive.mount('/content/drive/')\n",
        "\n"
      ],
      "execution_count": 1,
      "outputs": [
        {
          "output_type": "stream",
          "text": [
            "Go to this URL in a browser: https://accounts.google.com/o/oauth2/auth?client_id=947318989803-6bn6qk8qdgf4n4g3pfee6491hc0brc4i.apps.googleusercontent.com&redirect_uri=urn%3aietf%3awg%3aoauth%3a2.0%3aoob&response_type=code&scope=email%20https%3a%2f%2fwww.googleapis.com%2fauth%2fdocs.test%20https%3a%2f%2fwww.googleapis.com%2fauth%2fdrive%20https%3a%2f%2fwww.googleapis.com%2fauth%2fdrive.photos.readonly%20https%3a%2f%2fwww.googleapis.com%2fauth%2fpeopleapi.readonly\n",
            "\n",
            "Enter your authorization code:\n",
            "··········\n",
            "Mounted at /content/drive/\n"
          ],
          "name": "stdout"
        }
      ]
    },
    {
      "cell_type": "code",
      "metadata": {
        "id": "wA_m5tBO3ocu",
        "colab_type": "code",
        "cellView": "form",
        "colab": {
          "base_uri": "https://localhost:8080/",
          "height": 315,
          "referenced_widgets": [
            "abcd9d5f04a9488ab51b4fed0b296e9d",
            "5ea650d7ae1c492fb5e93db52ac00743",
            "707638feac7e4b7abf1d2476c8a208b5",
            "813b357471314dc9b4983987e30f3a82",
            "a32f14a62bbd4090bb0e8151140b1f10",
            "29080e4e46ea47f6bee8bc53becd5fd1",
            "91bd877af47b471280b96ddb401806a8",
            "78fb7dd9deb24f4e9065b98c2fde3f67",
            "8a303fe9daac4bd487658449654559fe",
            "505f79b2b672489aa59f61c1bd8c36b5",
            "caa2e10b81f2452ea899081e82b447c8"
          ]
        },
        "outputId": "553f74f5-d0ff-4034-a5e2-aeadc8531318"
      },
      "source": [
        "import ipywidgets as widgets\n",
        "from ipywidgets import VBox\n",
        "import os\n",
        "from IPython.display import display\n",
        "\n",
        "g = os.popen('ls \"/content/drive/My Drive/\"').read()\n",
        "k = g.split('\\n')\n",
        "\n",
        "#@markdown ##Select Folder to copy\n",
        "fromPath =  widgets.Dropdown(\n",
        "    options=k,\n",
        "    value=k[0],\n",
        "    description='From:',\n",
        "    disabled=False,\n",
        ")\n",
        "\n",
        "toPath =  widgets.Dropdown(\n",
        "    options=k,\n",
        "    value=k[0],\n",
        "    description='To:',\n",
        "    disabled=False,\n",
        ")\n",
        "\n",
        "from IPython.display import display\n",
        "button = widgets.Button(description=\"Click Me!\",icons=\"copy\")\n",
        "output = widgets.Output()\n",
        "\n",
        "display(fromPath,toPath,button, output)\n",
        "\n",
        "def c(a,b):\n",
        "  out = os.popen(f'cd \"/content/drive/My Drive\";cp -r \"{a.value}/.\" \"{b.value}/\"').read()\n",
        "  print(\"Copy is Starting ...\")\n",
        "  print(out)\n",
        "  print(\"Complete ..☺☺\")\n",
        "\n",
        "def on_button_clicked(b):\n",
        "    print(\"<Loading ....>\")\n",
        "    with output:\n",
        "        c(fromPath,toPath)\n",
        "\n",
        "button.on_click(on_button_clicked)\n",
        "\n",
        "\n"
      ],
      "execution_count": 44,
      "outputs": [
        {
          "output_type": "display_data",
          "data": {
            "application/vnd.jupyter.widget-view+json": {
              "model_id": "abcd9d5f04a9488ab51b4fed0b296e9d",
              "version_minor": 0,
              "version_major": 2
            },
            "text/plain": [
              "Dropdown(description='From:', options=('1595748500478749822199.jpg', '1595748673772-1242265546.jpg', 'AlgoExpe…"
            ]
          },
          "metadata": {
            "tags": []
          }
        },
        {
          "output_type": "display_data",
          "data": {
            "application/vnd.jupyter.widget-view+json": {
              "model_id": "813b357471314dc9b4983987e30f3a82",
              "version_minor": 0,
              "version_major": 2
            },
            "text/plain": [
              "Dropdown(description='To:', options=('1595748500478749822199.jpg', '1595748673772-1242265546.jpg', 'AlgoExpert…"
            ]
          },
          "metadata": {
            "tags": []
          }
        },
        {
          "output_type": "display_data",
          "data": {
            "application/vnd.jupyter.widget-view+json": {
              "model_id": "91bd877af47b471280b96ddb401806a8",
              "version_minor": 0,
              "version_major": 2
            },
            "text/plain": [
              "Button(description='Click Me!', style=ButtonStyle())"
            ]
          },
          "metadata": {
            "tags": []
          }
        },
        {
          "output_type": "display_data",
          "data": {
            "application/vnd.jupyter.widget-view+json": {
              "model_id": "505f79b2b672489aa59f61c1bd8c36b5",
              "version_minor": 0,
              "version_major": 2
            },
            "text/plain": [
              "Output()"
            ]
          },
          "metadata": {
            "tags": []
          }
        },
        {
          "output_type": "stream",
          "text": [
            "<Loading ....>\n",
            "<Loading ....>\n",
            "<Loading ....>\n"
          ],
          "name": "stdout"
        }
      ]
    },
    {
      "cell_type": "code",
      "metadata": {
        "id": "j5MMyDcze9Tg",
        "colab_type": "code",
        "colab": {
          "base_uri": "https://localhost:8080/"
        },
        "outputId": "4303860a-9655-4f90-c02a-bc0d4cdbe86e"
      },
      "source": [
        "import os\n",
        "gta = os.popen(\"ls \").read()\n",
        "print(gta)"
      ],
      "execution_count": 45,
      "outputs": [
        {
          "output_type": "stream",
          "text": [
            "drive\n",
            "sample_data\n",
            "\n"
          ],
          "name": "stdout"
        }
      ]
    }
  ]
}